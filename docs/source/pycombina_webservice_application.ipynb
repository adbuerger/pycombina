{
 "cells": [
  {
   "cell_type": "markdown",
   "metadata": {},
   "source": [
    "# Webservice example\n",
    "\n",
    "pycombina needs Python version >= 3.5 to work properly. However, certain applications require to use different versions of Python, or cannot use Python within their framework at all.\n",
    "\n",
    "Therefore, pycombina contains an example of how to use Flask to make (yet, a subset of) pycombina's features accessible as a webservice, which can then be used from other versions of Python or from completely different frameworks. The usage is exemplified in the following."
   ]
  },
  {
   "cell_type": "markdown",
   "metadata": {},
   "source": [
    "## Start a webservice\n",
    "\n",
    "The script file ```examples/webservice_example.py``` contains an example of how to make pycombina's features accessible via a webservice using Flask. Once the script is run, a demo webservice is started, which will be used in the upcoming demonstration.\n",
    "\n",
    "By default, the service runs on ```localhost:6789```, POST requests can be sent to ```http://localhost:6789/api/solve/```."
   ]
  },
  {
   "cell_type": "markdown",
   "metadata": {},
   "source": [
    "## Solve a problem using the webservice\n",
    "\n",
    "A binary approximation problem for a sample data set shall be solved using combinatorial integral approximation. The setup includes ``n_c = 1`` binary controls with ``n_b = 359`` values.\n",
    "\n",
    "The first column of the file ``sample_data_2.csv`` contains the time points, the second column contains the relaxed binary values."
   ]
  },
  {
   "cell_type": "code",
   "execution_count": 1,
   "metadata": {},
   "outputs": [],
   "source": [
    "import numpy as np\n",
    "\n",
    "data = np.loadtxt(\"sample_data_2.csv\", skiprows = 1)\n",
    "\n",
    "t = data[:,0]\n",
    "b_rel = data[:-1,1]"
   ]
  },
  {
   "cell_type": "markdown",
   "metadata": {},
   "source": [
    "In the following, the data set is visualized."
   ]
  },
  {
   "cell_type": "code",
   "execution_count": 2,
   "metadata": {},
   "outputs": [
    {
     "data": {
      "image/png": "[encoded data removed]",
      "text/plain": [
       "<Figure size 864x288 with 1 Axes>"
      ]
     },
     "metadata": {
      "needs_background": "light"
     },
     "output_type": "display_data"
    }
   ],
   "source": [
    "import matplotlib.pyplot as plt\n",
    "%matplotlib inline\n",
    "\n",
    "plt.figure(figsize = (12,4))\n",
    "plt.step(t[:-1], b_rel, label = \"b_rel\", color = \"C0\", linestyle = \"dashed\", where = \"post\")\n",
    "plt.xlabel(\"t\")\n",
    "plt.ylabel(\"b\")\n",
    "plt.legend(loc = \"upper left\")\n",
    "plt.show()"
   ]
  },
  {
   "cell_type": "markdown",
   "metadata": {},
   "source": [
    "Now, we define a dictionary containing all problem information.  From the data shown above, it seems reasonable to also set a maximum switching constraint for the controls. For this, the key words of the corresponding functions of the problem and solver classes can be used."
   ]
  },
  {
   "cell_type": "code",
   "execution_count": 3,
   "metadata": {},
   "outputs": [
    {
     "name": "stdout",
     "output_type": "stream",
     "text": [
      "Status: 200\n"
     ]
    }
   ],
   "source": [
    "import requests\n",
    "\n",
    "service_address = \"http://localhost:6789/api/solve/\"\n",
    "\n",
    "problem_definition = {\n",
    "\n",
    "    \"t\": t.tolist(),\n",
    "    \"b_rel\": b_rel.tolist(),\n",
    "    \"off_state_included\": False,\n",
    "    \"n_max_switches\": [4],\n",
    "    \"solver\": \"CombinaBnB\"\n",
    "}\n",
    "\n",
    "r = requests.post(service_address, json = problem_definition)\n",
    "print(\"Status:\", r.status_code)"
   ]
  },
  {
   "cell_type": "markdown",
   "metadata": {},
   "source": [
    "The terminal running the webservice now shows the corresponding solver outputs. After the solution process has finished, we can inspect the solution returned by the webservice."
   ]
  },
  {
   "cell_type": "code",
   "execution_count": 4,
   "metadata": {
    "scrolled": false
   },
   "outputs": [
    {
     "name": "stdout",
     "output_type": "stream",
     "text": [
      "Errors: None\n",
      "Solver: CombinaBnB\n",
      "Solver status: Optimal solution found\n",
      "Objective value: 1603.3298534939165\n"
     ]
    },
    {
     "data": {
      "image/png": "[encoded data removed]",
      "text/plain": [
       "<Figure size 864x288 with 1 Axes>"
      ]
     },
     "metadata": {
      "needs_background": "light"
     },
     "output_type": "display_data"
    }
   ],
   "source": [
    "solution = r.json()\n",
    "print(\"Errors:\", solution[\"errors\"])\n",
    "print(\"Solver:\", solution[\"solver\"])\n",
    "print(\"Solver status:\", solution[\"solver_status\"])\n",
    "print(\"Objective value:\", solution[\"eta\"])\n",
    "\n",
    "if r.status_code == 200:\n",
    "\n",
    "    b_bin = np.squeeze(r.json()[\"b_bin\"])\n",
    "\n",
    "    plt.figure(figsize = (12,4))\n",
    "    plt.step(t[:-1], b_rel, label = \"b_rel\", color = \"C0\", linestyle = \"dashed\", where = \"post\")\n",
    "    plt.step(t[:-1], b_bin, label = \"b_bin\", color = \"C0\", where = \"post\")\n",
    "    plt.xlabel(\"t\")\n",
    "    plt.ylabel(\"b\")\n",
    "    plt.legend(loc = \"upper left\")\n",
    "    plt.show()"
   ]
  },
  {
   "cell_type": "markdown",
   "metadata": {},
   "source": [
    "In case of (usage) errors, the corresponding error messages of the problem and solver classes are returned."
   ]
  },
  {
   "cell_type": "code",
   "execution_count": 5,
   "metadata": {},
   "outputs": [
    {
     "name": "stdout",
     "output_type": "stream",
     "text": [
      "Status: 500\n",
      "Errors: The number of integer values in max_switches must be equal to the number of binary controls.\n",
      "Solver: None\n",
      "Solver status: None\n",
      "Objective value: None\n"
     ]
    }
   ],
   "source": [
    "problem_definition = {\n",
    "\n",
    "    \"t\": t.tolist(),\n",
    "    \"b_rel\": b_rel.tolist(),\n",
    "    \"off_state_included\": False,\n",
    "    \"n_max_switches\": [np.nan],\n",
    "    \"solver\": \"CombinaBnB\"\n",
    "}\n",
    "\n",
    "r = requests.post(service_address, json = problem_definition)\n",
    "print(\"Status:\", r.status_code)\n",
    "\n",
    "solution = r.json()\n",
    "print(\"Errors:\", solution[\"errors\"])\n",
    "print(\"Solver:\", solution[\"solver\"])\n",
    "print(\"Solver status:\", solution[\"solver_status\"])\n",
    "print(\"Objective value:\", solution[\"eta\"])"
   ]
  }
 ],
 "metadata": {
  "kernelspec": {
   "display_name": "Python 3",
   "language": "python",
   "name": "python3"
  },
  "language_info": {
   "codemirror_mode": {
    "name": "ipython",
    "version": 3
   },
   "file_extension": ".py",
   "mimetype": "text/x-python",
   "name": "python",
   "nbconvert_exporter": "python",
   "pygments_lexer": "ipython3",
   "version": "3.6.2"
  }
 },
 "nbformat": 4,
 "nbformat_minor": 2
}
