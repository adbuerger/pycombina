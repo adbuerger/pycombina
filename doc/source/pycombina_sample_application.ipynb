{
 "cells": [
  {
   "cell_type": "markdown",
   "metadata": {},
   "source": [
    "# Sample application\n",
    "\n",
    "\n",
    "In the following, the application of pycombina for solution of a combinatorial integral approximation problem is exemplified.\n",
    "\n",
    "\n",
    "## Problem setup\n",
    "\n",
    "A combinatorial integral approximation problem for a sample data set shall be solved. The setup includes ``n_c = 3`` binary controls with each ``n_b = 149`` values and maximum switching constraints of ``sigma_max = [2, 2, 2]``, i. e. only two switching actions per control are allowed."
   ]
  },
  {
   "cell_type": "markdown",
   "metadata": {},
   "source": [
    "### Load sample data from file and visualize\n",
    "\n",
    "The first column of the file contains the time points, the other columns contain the relaxed binary values:"
   ]
  },
  {
   "cell_type": "code",
   "execution_count": 1,
   "metadata": {
    "collapsed": true
   },
   "outputs": [],
   "source": [
    "import numpy as np\n",
    "\n",
    "data = np.loadtxt(\"sample_data.csv\", skiprows = 1)\n",
    "\n",
    "t = data[:,0]\n",
    "b_rel = data[:-1,1:]\n",
    "\n",
    "sigma_max = [2, 2, 2]"
   ]
  },
  {
   "cell_type": "code",
   "execution_count": 2,
   "metadata": {},
   "outputs": [
    {
     "data": {
      "image/png": "[encoded data removed]",
      "text/plain": [
       "<matplotlib.figure.Figure at 0x7f471c0d60d0>"
      ]
     },
     "metadata": {},
     "output_type": "display_data"
    }
   ],
   "source": [
    "import matplotlib.pyplot as plt\n",
    "\n",
    "f, (ax1, ax2, ax3) = plt.subplots(3, sharex = True, figsize = (12,7))\n",
    "ax1.step(t[:-1], b_rel[:,0], color = \"C0\", linestyle=\"dashed\", where = \"post\")\n",
    "ax1.set_ylabel(\"b_0\")\n",
    "ax2.step(t[:-1], b_rel[:,1], color = \"C1\", linestyle=\"dashed\", where = \"post\")\n",
    "ax2.set_ylabel(\"b_1\")\n",
    "ax3.step(t[:-1], b_rel[:,2], color = \"C2\", linestyle=\"dashed\", where = \"post\")\n",
    "ax3.set_ylabel(\"b_2\")\n",
    "ax3.set_xlabel(\"t\")\n",
    "plt.show()"
   ]
  },
  {
   "cell_type": "markdown",
   "metadata": {},
   "source": [
    "### Pass problem data to pycombina and check dimensions\n",
    "\n",
    "For this, we instatiante an object of the class ``Combina``. This class contains the methods for solution of combinatorial integral approximation problems as well as some possibilities to check that the data we passed to pycombina was interpreted correctly. A welcome message is shown at the first start within a session."
   ]
  },
  {
   "cell_type": "code",
   "execution_count": 3,
   "metadata": {},
   "outputs": [
    {
     "name": "stdout",
     "output_type": "stream",
     "text": [
      "\n",
      "-----------------------------------------------------------\n",
      "|                                                         |\n",
      "|                      You're using                       |\n",
      "|                                                         |\n",
      "|    pycombina -- Combinatorial Integral Approximation    |\n",
      "|                                                         |\n",
      "|       by A. Buerger, C. Zeile, S. Sager, M. Diehl       |\n",
      "|                                                         |\n",
      "-----------------------------------------------------------\n",
      "\n"
     ]
    }
   ],
   "source": [
    "from pycombina import Combina\n",
    "\n",
    "combina = Combina(t, b_rel)\n",
    "\n",
    "assert(combina.N_c == 3)\n",
    "assert(combina.N_b == t.size-1)"
   ]
  },
  {
   "cell_type": "markdown",
   "metadata": {},
   "source": [
    "### Solve combinatorial integral approximation problem\n",
    "\n",
    "For solution of the problem, we choose the customized Branch-and-Bound method, and pass the maximum switching constraints."
   ]
  },
  {
   "cell_type": "code",
   "execution_count": 9,
   "metadata": {},
   "outputs": [
    {
     "name": "stdout",
     "output_type": "stream",
     "text": [
      "Optimize a model with 2676 rows, 892 columns and 74172 nonzeros\n",
      "Variable types: 445 continuous, 447 integer (447 binary)\n",
      "Coefficient statistics:\n",
      "  Matrix range     [8e-02, 1e+00]\n",
      "  Objective range  [1e+00, 1e+00]\n",
      "  Bounds range     [1e+00, 1e+00]\n",
      "  RHS range        [3e-11, 8e+00]\n",
      "Found heuristic solution: objective 8.1428242\n",
      "Presolve removed 77 rows and 0 columns\n",
      "Presolve time: 0.06s\n",
      "Presolved: 2599 rows, 892 columns, 73056 nonzeros\n",
      "Variable types: 1 continuous, 891 integer (891 binary)\n",
      "\n",
      "Root relaxation: objective 1.420973e-01, 1168 iterations, 0.06 seconds\n",
      "\n",
      "    Nodes    |    Current Node    |     Objective Bounds      |     Work\n",
      " Expl Unexpl |  Obj  Depth IntInf | Incumbent    BestBd   Gap | It/Node Time\n",
      "\n",
      "     0     0    0.14210    0  308    8.14282    0.14210  98.3%     -    0s\n",
      "H    0     0                       1.8540053    0.14210  92.3%     -    0s\n",
      "H    0     0                       0.9771758    0.14210  85.5%     -    0s\n",
      "H    0     0                       0.7095057    0.14210  80.0%     -    0s\n",
      "     0     0    0.28919    0  276    0.70951    0.28919  59.2%     -    0s\n",
      "     0     0    0.28919    0  275    0.70951    0.28919  59.2%     -    0s\n",
      "H    0     0                       0.5771758    0.28919  49.9%     -    0s\n",
      "H    0     0                       0.5599998    0.28919  48.4%     -    0s\n",
      "     0     0    0.31946    0  226    0.56000    0.31946  43.0%     -    0s\n",
      "H    0     0                       0.4695059    0.31946  32.0%     -    0s\n",
      "     0     0    0.31946    0  228    0.46951    0.31946  32.0%     -    0s\n",
      "     0     0    0.31946    0  228    0.46951    0.31946  32.0%     -    0s\n",
      "     0     0    0.31946    0  245    0.46951    0.31946  32.0%     -    0s\n",
      "     0     0    0.31946    0  206    0.46951    0.31946  32.0%     -    1s\n",
      "     0     0    0.31946    0  206    0.46951    0.31946  32.0%     -    1s\n",
      "     0     2    0.31946    0  206    0.46951    0.31946  32.0%     -    1s\n",
      "H   35    16                       0.4589713    0.39672  13.6%  24.5    1s\n",
      "H  112    31                       0.4171758    0.39672  4.90%  13.8    1s\n",
      "\n",
      "Cutting planes:\n",
      "  Gomory: 4\n",
      "  MIR: 5\n",
      "  Mod-K: 2\n",
      "\n",
      "Explored 168 nodes (6389 simplex iterations) in 1.91 seconds\n",
      "Thread count was 4 (of 4 available processors)\n",
      "\n",
      "Solution count 9: 0.417176 0.458971 0.469506 ... 8.14282\n",
      "\n",
      "Optimal solution found (tolerance 1.00e-04)\n",
      "Best objective 4.171757545741e-01, best bound 4.171757545741e-01, gap 0.0000%\n"
     ]
    }
   ],
   "source": [
    "combina.solve(solver = \"gurobi\", max_switches = sigma_max)"
   ]
  },
  {
   "cell_type": "code",
   "execution_count": null,
   "metadata": {
    "collapsed": true
   },
   "outputs": [],
   "source": []
  },
  {
   "cell_type": "code",
   "execution_count": null,
   "metadata": {
    "collapsed": true
   },
   "outputs": [],
   "source": []
  }
 ],
 "metadata": {
  "kernelspec": {
   "display_name": "Python 2",
   "language": "python",
   "name": "python2"
  },
  "language_info": {
   "codemirror_mode": {
    "name": "ipython",
    "version": 2
   },
   "file_extension": ".py",
   "mimetype": "text/x-python",
   "name": "python",
   "nbconvert_exporter": "python",
   "pygments_lexer": "ipython2",
   "version": "2.7.12"
  }
 },
 "nbformat": 4,
 "nbformat_minor": 2
}
